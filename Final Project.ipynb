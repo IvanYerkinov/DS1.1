{
 "cells": [
  {
   "cell_type": "code",
   "execution_count": 1,
   "metadata": {},
   "outputs": [],
   "source": [
    "import numpy as np \n",
    "import pandas as pd \n",
    "import seaborn as sns\n",
    "import matplotlib.pyplot as plt"
   ]
  },
  {
   "cell_type": "code",
   "execution_count": 8,
   "metadata": {},
   "outputs": [],
   "source": [
    "df = pd.read_csv('machine.data')"
   ]
  },
  {
   "cell_type": "code",
   "execution_count": 10,
   "metadata": {},
   "outputs": [
    {
     "data": {
      "text/plain": [
       "Index(['adviser', '32/60', '125', '256', '6000', '256.1', '16', '128', '198',\n",
       "       '199'],\n",
       "      dtype='object')"
      ]
     },
     "execution_count": 10,
     "metadata": {},
     "output_type": "execute_result"
    }
   ],
   "source": [
    "df.columns"
   ]
  },
  {
   "cell_type": "code",
   "execution_count": 12,
   "metadata": {},
   "outputs": [],
   "source": [
    "df.columns = ['Vendor', 'Model', 'MYCT', 'MMIN', 'MMAX', 'CACH', 'CHMIN', 'CHMAX', 'PRP', 'ERP']"
   ]
  },
  {
   "cell_type": "code",
   "execution_count": 13,
   "metadata": {},
   "outputs": [
    {
     "data": {
      "text/html": [
       "<div>\n",
       "<style scoped>\n",
       "    .dataframe tbody tr th:only-of-type {\n",
       "        vertical-align: middle;\n",
       "    }\n",
       "\n",
       "    .dataframe tbody tr th {\n",
       "        vertical-align: top;\n",
       "    }\n",
       "\n",
       "    .dataframe thead th {\n",
       "        text-align: right;\n",
       "    }\n",
       "</style>\n",
       "<table border=\"1\" class=\"dataframe\">\n",
       "  <thead>\n",
       "    <tr style=\"text-align: right;\">\n",
       "      <th></th>\n",
       "      <th>Vendor</th>\n",
       "      <th>Model</th>\n",
       "      <th>MYCT</th>\n",
       "      <th>MMIN</th>\n",
       "      <th>MMAX</th>\n",
       "      <th>CACH</th>\n",
       "      <th>CHMIN</th>\n",
       "      <th>CHMAX</th>\n",
       "      <th>PRP</th>\n",
       "      <th>ERP</th>\n",
       "    </tr>\n",
       "  </thead>\n",
       "  <tbody>\n",
       "    <tr>\n",
       "      <th>0</th>\n",
       "      <td>amdahl</td>\n",
       "      <td>470v/7</td>\n",
       "      <td>29</td>\n",
       "      <td>8000</td>\n",
       "      <td>32000</td>\n",
       "      <td>32</td>\n",
       "      <td>8</td>\n",
       "      <td>32</td>\n",
       "      <td>269</td>\n",
       "      <td>253</td>\n",
       "    </tr>\n",
       "    <tr>\n",
       "      <th>1</th>\n",
       "      <td>amdahl</td>\n",
       "      <td>470v/7a</td>\n",
       "      <td>29</td>\n",
       "      <td>8000</td>\n",
       "      <td>32000</td>\n",
       "      <td>32</td>\n",
       "      <td>8</td>\n",
       "      <td>32</td>\n",
       "      <td>220</td>\n",
       "      <td>253</td>\n",
       "    </tr>\n",
       "    <tr>\n",
       "      <th>2</th>\n",
       "      <td>amdahl</td>\n",
       "      <td>470v/7b</td>\n",
       "      <td>29</td>\n",
       "      <td>8000</td>\n",
       "      <td>32000</td>\n",
       "      <td>32</td>\n",
       "      <td>8</td>\n",
       "      <td>32</td>\n",
       "      <td>172</td>\n",
       "      <td>253</td>\n",
       "    </tr>\n",
       "    <tr>\n",
       "      <th>3</th>\n",
       "      <td>amdahl</td>\n",
       "      <td>470v/7c</td>\n",
       "      <td>29</td>\n",
       "      <td>8000</td>\n",
       "      <td>16000</td>\n",
       "      <td>32</td>\n",
       "      <td>8</td>\n",
       "      <td>16</td>\n",
       "      <td>132</td>\n",
       "      <td>132</td>\n",
       "    </tr>\n",
       "    <tr>\n",
       "      <th>4</th>\n",
       "      <td>amdahl</td>\n",
       "      <td>470v/b</td>\n",
       "      <td>26</td>\n",
       "      <td>8000</td>\n",
       "      <td>32000</td>\n",
       "      <td>64</td>\n",
       "      <td>8</td>\n",
       "      <td>32</td>\n",
       "      <td>318</td>\n",
       "      <td>290</td>\n",
       "    </tr>\n",
       "    <tr>\n",
       "      <th>...</th>\n",
       "      <td>...</td>\n",
       "      <td>...</td>\n",
       "      <td>...</td>\n",
       "      <td>...</td>\n",
       "      <td>...</td>\n",
       "      <td>...</td>\n",
       "      <td>...</td>\n",
       "      <td>...</td>\n",
       "      <td>...</td>\n",
       "      <td>...</td>\n",
       "    </tr>\n",
       "    <tr>\n",
       "      <th>203</th>\n",
       "      <td>sperry</td>\n",
       "      <td>80/8</td>\n",
       "      <td>124</td>\n",
       "      <td>1000</td>\n",
       "      <td>8000</td>\n",
       "      <td>0</td>\n",
       "      <td>1</td>\n",
       "      <td>8</td>\n",
       "      <td>42</td>\n",
       "      <td>37</td>\n",
       "    </tr>\n",
       "    <tr>\n",
       "      <th>204</th>\n",
       "      <td>sperry</td>\n",
       "      <td>90/80-model-3</td>\n",
       "      <td>98</td>\n",
       "      <td>1000</td>\n",
       "      <td>8000</td>\n",
       "      <td>32</td>\n",
       "      <td>2</td>\n",
       "      <td>8</td>\n",
       "      <td>46</td>\n",
       "      <td>50</td>\n",
       "    </tr>\n",
       "    <tr>\n",
       "      <th>205</th>\n",
       "      <td>sratus</td>\n",
       "      <td>32</td>\n",
       "      <td>125</td>\n",
       "      <td>2000</td>\n",
       "      <td>8000</td>\n",
       "      <td>0</td>\n",
       "      <td>2</td>\n",
       "      <td>14</td>\n",
       "      <td>52</td>\n",
       "      <td>41</td>\n",
       "    </tr>\n",
       "    <tr>\n",
       "      <th>206</th>\n",
       "      <td>wang</td>\n",
       "      <td>vs-100</td>\n",
       "      <td>480</td>\n",
       "      <td>512</td>\n",
       "      <td>8000</td>\n",
       "      <td>32</td>\n",
       "      <td>0</td>\n",
       "      <td>0</td>\n",
       "      <td>67</td>\n",
       "      <td>47</td>\n",
       "    </tr>\n",
       "    <tr>\n",
       "      <th>207</th>\n",
       "      <td>wang</td>\n",
       "      <td>vs-90</td>\n",
       "      <td>480</td>\n",
       "      <td>1000</td>\n",
       "      <td>4000</td>\n",
       "      <td>0</td>\n",
       "      <td>0</td>\n",
       "      <td>0</td>\n",
       "      <td>45</td>\n",
       "      <td>25</td>\n",
       "    </tr>\n",
       "  </tbody>\n",
       "</table>\n",
       "<p>208 rows × 10 columns</p>\n",
       "</div>"
      ],
      "text/plain": [
       "     Vendor          Model  MYCT  MMIN   MMAX  CACH  CHMIN  CHMAX  PRP  ERP\n",
       "0    amdahl         470v/7    29  8000  32000    32      8     32  269  253\n",
       "1    amdahl        470v/7a    29  8000  32000    32      8     32  220  253\n",
       "2    amdahl        470v/7b    29  8000  32000    32      8     32  172  253\n",
       "3    amdahl        470v/7c    29  8000  16000    32      8     16  132  132\n",
       "4    amdahl         470v/b    26  8000  32000    64      8     32  318  290\n",
       "..      ...            ...   ...   ...    ...   ...    ...    ...  ...  ...\n",
       "203  sperry           80/8   124  1000   8000     0      1      8   42   37\n",
       "204  sperry  90/80-model-3    98  1000   8000    32      2      8   46   50\n",
       "205  sratus             32   125  2000   8000     0      2     14   52   41\n",
       "206    wang         vs-100   480   512   8000    32      0      0   67   47\n",
       "207    wang          vs-90   480  1000   4000     0      0      0   45   25\n",
       "\n",
       "[208 rows x 10 columns]"
      ]
     },
     "execution_count": 13,
     "metadata": {},
     "output_type": "execute_result"
    }
   ],
   "source": [
    "df"
   ]
  },
  {
   "cell_type": "markdown",
   "metadata": {},
   "source": [
    "1. vendor name: 30\n",
    "(adviser, amdahl,apollo, basf, bti, burroughs, c.r.d, cambex, cdc, dec,\n",
    "dg, formation, four-phase, gould, honeywell, hp, ibm, ipl, magnuson,\n",
    "microdata, nas, ncr, nixdorf, perkin-elmer, prime, siemens, sperry,\n",
    "sratus, wang)\n",
    "2. Model Name: many unique symbols\n",
    "3. MYCT: machine cycle time in nanoseconds (integer)\n",
    "4. MMIN: minimum main memory in kilobytes (integer)\n",
    "5. MMAX: maximum main memory in kilobytes (integer)\n",
    "6. CACH: cache memory in kilobytes (integer)\n",
    "7. CHMIN: minimum channels in units (integer)\n",
    "8. CHMAX: maximum channels in units (integer)\n",
    "9. PRP: published relative performance (integer)\n",
    "10. ERP: estimated relative performance from the original article (integer)"
   ]
  },
  {
   "cell_type": "code",
   "execution_count": 59,
   "metadata": {},
   "outputs": [
    {
     "data": {
      "text/plain": [
       "ibm             32\n",
       "nas             19\n",
       "sperry          13\n",
       "ncr             13\n",
       "honeywell       13\n",
       "siemens         12\n",
       "amdahl           9\n",
       "cdc              9\n",
       "burroughs        8\n",
       "harris           7\n",
       "hp               7\n",
       "dg               7\n",
       "ipl              6\n",
       "dec              6\n",
       "magnuson         6\n",
       "c.r.d            6\n",
       "prime            5\n",
       "cambex           5\n",
       "formation        5\n",
       "gould            3\n",
       "perkin-elmer     3\n",
       "nixdorf          3\n",
       "basf             2\n",
       "apollo           2\n",
       "wang             2\n",
       "bti              2\n",
       "four-phase       1\n",
       "sratus           1\n",
       "microdata        1\n",
       "Name: Vendor, dtype: int64"
      ]
     },
     "execution_count": 59,
     "metadata": {},
     "output_type": "execute_result"
    }
   ],
   "source": [
    "df[\"Vendor\"].value_counts()"
   ]
  },
  {
   "cell_type": "code",
   "execution_count": 27,
   "metadata": {},
   "outputs": [
    {
     "name": "stdout",
     "output_type": "stream",
     "text": [
      "470v/7\n",
      "470v/7a\n",
      "470v/7b\n",
      "470v/7c\n",
      "470v/b\n",
      "580-5840\n",
      "580-5850\n",
      "580-5860\n",
      "580-5880\n",
      "dn320\n",
      "dn420\n",
      "7/65\n",
      "7/68\n",
      "5000\n",
      "8000\n",
      "b1955\n",
      "b2900\n",
      "b2925\n",
      "b4955\n",
      "b5900\n",
      "b5920\n",
      "b6900\n",
      "b6925\n",
      "68/10-80\n",
      "universe:2203t\n",
      "universe:68\n",
      "universe:68/05\n",
      "universe:68/137\n",
      "universe:68/37\n",
      "cyber:170/750\n",
      "cyber:170/760\n",
      "cyber:170/815\n",
      "cyber:170/825\n",
      "cyber:170/835\n",
      "cyber:170/845\n",
      "omega:480-i\n",
      "omega:480-ii\n",
      "omega:480-iii\n",
      "1636-1\n",
      "1636-10\n",
      "1641-1\n",
      "1641-11\n",
      "1651-1\n",
      "decsys:10:1091\n",
      "decsys:20:2060\n",
      "microvax-1\n",
      "vax:11/730\n",
      "vax:11/750\n",
      "vax:11/780\n",
      "eclipse:c/350\n",
      "eclipse:m/600\n",
      "eclipse:mv/10000\n",
      "eclipse:mv/4000\n",
      "eclipse:mv/6000\n",
      "eclipse:mv/8000\n",
      "eclipse:mv/8000-ii\n",
      "f4000/100\n",
      "f4000/200\n",
      "f4000/200ap\n",
      "f4000/300\n",
      "f4000/300ap\n",
      "2000/260\n",
      "concept:32/8705\n",
      "concept:32/8750\n",
      "concept:32/8780\n",
      "3000/30\n",
      "3000/40\n",
      "3000/44\n",
      "3000/48\n",
      "3000/64\n",
      "3000/88\n",
      "3000/iii\n",
      "100\n",
      "300\n",
      "500\n",
      "600\n",
      "700\n",
      "80\n",
      "800\n",
      "dps:6/35\n",
      "dps:6/92\n",
      "dps:6/96\n",
      "dps:7/35\n",
      "dps:7/45\n",
      "dps:7/55\n",
      "dps:7/65\n",
      "dps:8/44\n",
      "dps:8/49\n",
      "dps:8/50\n",
      "dps:8/52\n",
      "dps:8/62\n",
      "dps:8/20\n",
      "3033:s\n",
      "3033:u\n",
      "3081\n",
      "3081:d\n",
      "3083:b\n",
      "3083:e\n",
      "370/125-2\n",
      "370/148\n",
      "370/158-3\n",
      "38/3\n",
      "38/4\n",
      "38/5\n",
      "38/7\n",
      "38/8\n",
      "4321\n",
      "4331-1\n",
      "4331-11\n",
      "4331-2\n",
      "4341\n",
      "4341-1\n",
      "4341-10\n",
      "4341-11\n",
      "4341-12\n",
      "4341-2\n",
      "4341-9\n",
      "4361-4\n",
      "4361-5\n",
      "4381-1\n",
      "4381-2\n",
      "8130-a\n",
      "8130-b\n",
      "8140\n",
      "4436\n",
      "4443\n",
      "4445\n",
      "4446\n",
      "4460\n",
      "4480\n",
      "m80/30\n",
      "m80/31\n",
      "m80/32\n",
      "m80/42\n",
      "m80/43\n",
      "m80/44\n",
      "seq.ms/3200\n",
      "as/3000\n",
      "as/3000-n\n",
      "as/5000\n",
      "as/5000-e\n",
      "as/5000-n\n",
      "as/6130\n",
      "as/6150\n",
      "as/6620\n",
      "as/6630\n",
      "as/6650\n",
      "as/7000\n",
      "as/7000-n\n",
      "as/8040\n",
      "as/8050\n",
      "as/8060\n",
      "as/9000-dpc\n",
      "as/9000-n\n",
      "as/9040\n",
      "as/9060\n",
      "v8535:ii\n",
      "v8545:ii\n",
      "v8555:ii\n",
      "v8565:ii\n",
      "v8565:ii-e\n",
      "v8575:ii\n",
      "v8585:ii\n",
      "v8595:ii\n",
      "v8635\n",
      "v8650\n",
      "v8655\n",
      "v8665\n",
      "v8670\n",
      "8890/30\n",
      "8890/50\n",
      "8890/70\n",
      "3205\n",
      "3210\n",
      "3230\n",
      "50-2250\n",
      "50-250-ii\n",
      "50-550-ii\n",
      "50-750-ii\n",
      "50-850-ii\n",
      "7.521\n",
      "7.531\n",
      "7.536\n",
      "7.541\n",
      "7.551\n",
      "7.561\n",
      "7.865-2\n",
      "7.870-2\n",
      "7.872-2\n",
      "7.875-2\n",
      "7.880-2\n",
      "7.881-2\n",
      "1100/61-h1\n",
      "1100/81\n",
      "1100/82\n",
      "1100/83\n",
      "1100/84\n",
      "1100/93\n",
      "1100/94\n",
      "80/3\n",
      "80/4\n",
      "80/5\n",
      "80/6\n",
      "80/8\n",
      "90/80-model-3\n",
      "32\n",
      "vs-100\n",
      "vs-90\n"
     ]
    }
   ],
   "source": [
    "for i in df['Model']:\n",
    "    print(i)"
   ]
  },
  {
   "cell_type": "code",
   "execution_count": null,
   "metadata": {},
   "outputs": [],
   "source": []
  },
  {
   "cell_type": "code",
   "execution_count": 28,
   "metadata": {},
   "outputs": [
    {
     "data": {
      "text/plain": [
       "208"
      ]
     },
     "execution_count": 28,
     "metadata": {},
     "output_type": "execute_result"
    }
   ],
   "source": [
    "len(df[\"Model\"])"
   ]
  },
  {
   "cell_type": "code",
   "execution_count": 32,
   "metadata": {},
   "outputs": [
    {
     "data": {
      "image/png": "[encoded data removed]",
      "text/plain": [
       "<Figure size 432x288 with 1 Axes>"
      ]
     },
     "metadata": {
      "needs_background": "light"
     },
     "output_type": "display_data"
    }
   ],
   "source": [
    "plt.hist(df[\"MYCT\"], density=1)\n",
    "plt.show()"
   ]
  },
  {
   "cell_type": "code",
   "execution_count": 149,
   "metadata": {},
   "outputs": [
    {
     "name": "stdout",
     "output_type": "stream",
     "text": [
      "Amount: 32\n",
      "Average: 444.375\n",
      "Vendor: ibm\n",
      "Number of models: 32\n",
      "Average MYCT: 444.375\n",
      "Min MYCT: 17\n"
     ]
    },
    {
     "data": {
      "image/png": "[encoded data removed]",
      "text/plain": [
       "<Figure size 432x288 with 1 Axes>"
      ]
     },
     "metadata": {
      "needs_background": "light"
     },
     "output_type": "display_data"
    }
   ],
   "source": [
    "def getVendorStat(data, vendor, stat):\n",
    "    temp = df[df[\"Vendor\"] == vendor][stat]\n",
    "    print(\"Amount: \", end=\"\")\n",
    "    print(len(temp))\n",
    "    print(\"Average: \", end=\"\")\n",
    "    print(temp.mean())\n",
    "    temp.hist()\n",
    "    \n",
    "def getVendorModels(data, vendor):\n",
    "    for i in df[data[\"Vendor\"] == vendor][\"Model\"]:\n",
    "        print(i)\n",
    "        \n",
    "def getModelVendor(data, model):\n",
    "    for i in df[data[\"Model\"] == model][\"Vendor\"]:\n",
    "        print(i)\n",
    "\n",
    "def getVendorData(data, vendor):\n",
    "    print(\"Vendor: \", end=\"\")\n",
    "    print(vendor)\n",
    "    temp = df[df[\"Vendor\"] == vendor]\n",
    "    print(\"Number of models: \", end=\"\")\n",
    "    print(len(temp[\"Model\"]))\n",
    "    \n",
    "    print(\"Average MYCT: \", end=\"\")\n",
    "    print(temp[\"MYCT\"].mean())\n",
    "    print(\"Min MYCT: \", end=\"\")\n",
    "    print(temp[\"MYCT\"].min())\n",
    "\n",
    "getVendorStat(df, \"ibm\", \"MYCT\")\n",
    "getVendorData(df, \"ibm\")"
   ]
  },
  {
   "cell_type": "code",
   "execution_count": 146,
   "metadata": {},
   "outputs": [
    {
     "name": "stdout",
     "output_type": "stream",
     "text": [
      "3033:s\n",
      "3033:u\n",
      "3081\n",
      "3081:d\n",
      "3083:b\n",
      "3083:e\n",
      "370/125-2\n",
      "370/148\n",
      "370/158-3\n",
      "38/3\n",
      "38/4\n",
      "38/5\n",
      "38/7\n",
      "38/8\n",
      "4321\n",
      "4331-1\n",
      "4331-11\n",
      "4331-2\n",
      "4341\n",
      "4341-1\n",
      "4341-10\n",
      "4341-11\n",
      "4341-12\n",
      "4341-2\n",
      "4341-9\n",
      "4361-4\n",
      "4361-5\n",
      "4381-1\n",
      "4381-2\n",
      "8130-a\n",
      "8130-b\n",
      "8140\n"
     ]
    }
   ],
   "source": [
    "getVendorModels(df, \"ibm\")"
   ]
  },
  {
   "cell_type": "code",
   "execution_count": 45,
   "metadata": {},
   "outputs": [
    {
     "name": "stdout",
     "output_type": "stream",
     "text": [
      "Amount: 32\n",
      "Average: 3014.75\n"
     ]
    },
    {
     "data": {
      "image/png": "[encoded data removed]",
      "text/plain": [
       "<Figure size 432x288 with 1 Axes>"
      ]
     },
     "metadata": {
      "needs_background": "light"
     },
     "output_type": "display_data"
    }
   ],
   "source": [
    "getVendorStat(df, \"ibm\", \"MMIN\")"
   ]
  },
  {
   "cell_type": "code",
   "execution_count": 43,
   "metadata": {},
   "outputs": [
    {
     "name": "stdout",
     "output_type": "stream",
     "text": [
      "Amount: 19\n",
      "Average: 64.42105263157895\n"
     ]
    },
    {
     "data": {
      "image/png": "[encoded data removed]",
      "text/plain": [
       "<Figure size 432x288 with 1 Axes>"
      ]
     },
     "metadata": {
      "needs_background": "light"
     },
     "output_type": "display_data"
    }
   ],
   "source": [
    "getVendorStat(df, \"nas\", \"MYCT\")"
   ]
  },
  {
   "cell_type": "code",
   "execution_count": 44,
   "metadata": {},
   "outputs": [
    {
     "name": "stdout",
     "output_type": "stream",
     "text": [
      "Amount: 1\n",
      "Average: 150.0\n"
     ]
    },
    {
     "data": {
      "image/png": "[encoded data removed]",
      "text/plain": [
       "<Figure size 432x288 with 1 Axes>"
      ]
     },
     "metadata": {
      "needs_background": "light"
     },
     "output_type": "display_data"
    }
   ],
   "source": [
    "getVendorStat(df, \"microdata\", \"MYCT\")"
   ]
  },
  {
   "cell_type": "code",
   "execution_count": 55,
   "metadata": {},
   "outputs": [],
   "source": [
    "# ==================="
   ]
  },
  {
   "cell_type": "code",
   "execution_count": 132,
   "metadata": {},
   "outputs": [],
   "source": [
    "def calcMaxMinSt(data, calcv):\n",
    "    loops = data[\"Vendor\"].value_counts().keys()\n",
    "    dats = []\n",
    "    avg = 0\n",
    "\n",
    "    for i in loops:\n",
    "        temp = data[data[\"Vendor\"] == i][calcv]\n",
    "        print(i, end=\": \")\n",
    "        print(temp.sum(), end=\" \" + calcv + \"\\n\")\n",
    "        avg += temp.sum()\n",
    "        dats.append([i, temp.sum()])\n",
    "    avg = avg/len(loops)\n",
    "    \n",
    "    currMax = [\"0\", 0]\n",
    "    currMin = dats[0]\n",
    "    sqr = 0\n",
    "    \n",
    "    print()\n",
    "    \n",
    "    for i in dats:\n",
    "        sqr += (i[1] - avg)**2\n",
    "        if currMax[1] < i[1]:\n",
    "            currMax = i\n",
    "        if currMin[1] > i[1]:\n",
    "            currMin = i\n",
    "    \n",
    "    sqr = sqr/(len(dats) - 1)\n",
    "    sqr = np.sqrt(sqr)\n",
    "    print(\"Vendor with highest average \" + calcv , end=\": \")\n",
    "    print(currMax)\n",
    "    print(\"Vendor with lowest average \" + calcv, end=\": \")\n",
    "    print(currMin)\n",
    "    print(\"Standard Deviation between all vendors: \", end=\"\")\n",
    "    print(sqr)\n",
    "    return dats"
   ]
  },
  {
   "cell_type": "code",
   "execution_count": null,
   "metadata": {},
   "outputs": [],
   "source": []
  },
  {
   "cell_type": "code",
   "execution_count": 133,
   "metadata": {},
   "outputs": [
    {
     "name": "stdout",
     "output_type": "stream",
     "text": [
      "ibm: 14220 MYCT\n",
      "nas: 1224 MYCT\n",
      "sperry: 1318 MYCT\n",
      "ncr: 722 MYCT\n",
      "honeywell: 2710 MYCT\n",
      "siemens: 1113 MYCT\n",
      "amdahl: 234 MYCT\n",
      "cdc: 420 MYCT\n",
      "burroughs: 1102 MYCT\n",
      "harris: 1980 MYCT\n",
      "hp: 730 MYCT\n",
      "dg: 2180 MYCT\n",
      "ipl: 300 MYCT\n",
      "dec: 2406 MYCT\n",
      "magnuson: 450 MYCT\n",
      "c.r.d: 1920 MYCT\n",
      "prime: 800 MYCT\n",
      "cambex: 250 MYCT\n",
      "formation: 4000 MYCT\n",
      "gould: 225 MYCT\n",
      "perkin-elmer: 750 MYCT\n",
      "nixdorf: 600 MYCT\n",
      "basf: 110 MYCT\n",
      "apollo: 800 MYCT\n",
      "wang: 960 MYCT\n",
      "bti: 550 MYCT\n",
      "four-phase: 125 MYCT\n",
      "sratus: 125 MYCT\n",
      "microdata: 150 MYCT\n",
      "\n",
      "Vendor with highest average MYCT: ['ibm', 14220]\n",
      "Vendor with lowest average MYCT: ['basf', 110]\n",
      "Standard Deviation between all vendors: 2621.0965864063337\n"
     ]
    }
   ],
   "source": [
    "a = calcMaxMinSt(df, \"MYCT\")"
   ]
  },
  {
   "cell_type": "code",
   "execution_count": null,
   "metadata": {},
   "outputs": [],
   "source": []
  },
  {
   "cell_type": "code",
   "execution_count": 112,
   "metadata": {},
   "outputs": [
    {
     "name": "stdout",
     "output_type": "stream",
     "text": [
      "ibm: 96472 MMIN\n",
      "nas: 102000 MMIN\n",
      "sperry: 31548 MMIN\n",
      "ncr: 47000 MMIN\n",
      "honeywell: 21000 MMIN\n",
      "siemens: 51024 MMIN\n",
      "amdahl: 120000 MMIN\n",
      "cdc: 21840 MMIN\n",
      "burroughs: 17036 MMIN\n",
      "harris: 4416 MMIN\n",
      "hp: 8768 MMIN\n",
      "dg: 5640 MMIN\n",
      "ipl: 18000 MMIN\n",
      "dec: 4536 MMIN\n",
      "magnuson: 9000 MMIN\n",
      "c.r.d: 1920 MMIN\n",
      "prime: 5024 MMIN\n",
      "cambex: 8000 MMIN\n",
      "formation: 1280 MMIN\n",
      "gould: 6000 MMIN\n",
      "perkin-elmer: 2024 MMIN\n",
      "nixdorf: 4000 MMIN\n",
      "basf: 6000 MMIN\n",
      "apollo: 1512 MMIN\n",
      "wang: 1512 MMIN\n",
      "bti: 576 MMIN\n",
      "four-phase: 512 MMIN\n",
      "sratus: 2000 MMIN\n",
      "microdata: 512 MMIN\n",
      "\n",
      "Vendor with highest average MMIN: ['amdahl', 120000]\n",
      "Vendor with lowest average MMIN: ['four-phase', 512]\n",
      "Standard Deviation between all vendors: 32457.614336147515\n"
     ]
    }
   ],
   "source": [
    "b = calcMaxMinSt(df, \"MMIN\")"
   ]
  },
  {
   "cell_type": "code",
   "execution_count": 113,
   "metadata": {},
   "outputs": [
    {
     "name": "stdout",
     "output_type": "stream",
     "text": [
      "ibm: 305012 MMAX\n",
      "nas: 340000 MMAX\n",
      "sperry: 296000 MMAX\n",
      "ncr: 129000 MMAX\n",
      "honeywell: 149000 MMAX\n",
      "siemens: 165000 MMAX\n",
      "amdahl: 336000 MMAX\n",
      "cdc: 82140 MMAX\n",
      "burroughs: 38900 MMAX\n",
      "harris: 47268 MMAX\n",
      "hp: 29000 MMAX\n",
      "dg: 58000 MMAX\n",
      "ipl: 68000 MMAX\n",
      "dec: 41512 MMAX\n",
      "magnuson: 72000 MMAX\n",
      "c.r.d: 27000 MMAX\n",
      "prime: 26000 MMAX\n",
      "cambex: 60000 MMAX\n",
      "formation: 40000 MMAX\n",
      "gould: 40000 MMAX\n",
      "perkin-elmer: 24000 MMAX\n",
      "nixdorf: 14000 MMAX\n",
      "basf: 24000 MMAX\n",
      "apollo: 6500 MMAX\n",
      "wang: 12000 MMAX\n",
      "bti: 16064 MMAX\n",
      "four-phase: 1000 MMAX\n",
      "sratus: 8000 MMAX\n",
      "microdata: 4000 MMAX\n",
      "\n",
      "Vendor with highest average MMAX: ['nas', 340000]\n",
      "Vendor with lowest average MMAX: ['four-phase', 1000]\n",
      "Standard Deviation between all vendors: 104016.98331167408\n"
     ]
    }
   ],
   "source": [
    "c = calcMaxMinSt(df, \"MMAX\")"
   ]
  },
  {
   "cell_type": "code",
   "execution_count": 114,
   "metadata": {},
   "outputs": [
    {
     "name": "stdout",
     "output_type": "stream",
     "text": [
      "ibm: 343 CACH\n",
      "nas: 1046 CACH\n",
      "sperry: 584 CACH\n",
      "ncr: 416 CACH\n",
      "honeywell: 160 CACH\n",
      "siemens: 416 CACH\n",
      "amdahl: 512 CACH\n",
      "cdc: 406 CACH\n",
      "burroughs: 150 CACH\n",
      "harris: 30 CACH\n",
      "hp: 24 CACH\n",
      "dg: 64 CACH\n",
      "ipl: 112 CACH\n",
      "dec: 38 CACH\n",
      "magnuson: 108 CACH\n",
      "c.r.d: 16 CACH\n",
      "prime: 60 CACH\n",
      "cambex: 40 CACH\n",
      "formation: 0 CACH\n",
      "gould: 256 CACH\n",
      "perkin-elmer: 1 CACH\n",
      "nixdorf: 64 CACH\n",
      "basf: 130 CACH\n",
      "apollo: 4 CACH\n",
      "wang: 32 CACH\n",
      "bti: 0 CACH\n",
      "four-phase: 0 CACH\n",
      "sratus: 0 CACH\n",
      "microdata: 0 CACH\n",
      "\n",
      "Vendor with highest average CACH: ['nas', 1046]\n",
      "Vendor with lowest average CACH: ['formation', 0]\n",
      "Standard Deviation between all vendors: 241.42834917062086\n"
     ]
    }
   ],
   "source": [
    "d = calcMaxMinSt(df, \"CACH\")"
   ]
  },
  {
   "cell_type": "code",
   "execution_count": 116,
   "metadata": {},
   "outputs": [
    {
     "name": "stdout",
     "output_type": "stream",
     "text": [
      "ibm: 101 CHMIN\n",
      "nas: 108 CHMIN\n",
      "sperry: 172 CHMIN\n",
      "ncr: 64 CHMIN\n",
      "honeywell: 24 CHMIN\n",
      "siemens: 87 CHMIN\n",
      "amdahl: 120 CHMIN\n",
      "cdc: 75 CHMIN\n",
      "burroughs: 46 CHMIN\n",
      "harris: 27 CHMIN\n",
      "hp: 21 CHMIN\n",
      "dg: 7 CHMIN\n",
      "ipl: 10 CHMIN\n",
      "dec: 10 CHMIN\n",
      "magnuson: 22 CHMIN\n",
      "c.r.d: 6 CHMIN\n",
      "prime: 7 CHMIN\n",
      "cambex: 15 CHMIN\n",
      "formation: 5 CHMIN\n",
      "gould: 3 CHMIN\n",
      "perkin-elmer: 6 CHMIN\n",
      "nixdorf: 3 CHMIN\n",
      "basf: 2 CHMIN\n",
      "apollo: 2 CHMIN\n",
      "wang: 0 CHMIN\n",
      "bti: 5 CHMIN\n",
      "four-phase: 8 CHMIN\n",
      "sratus: 2 CHMIN\n",
      "microdata: 8 CHMIN\n",
      "\n",
      "Vendor with highest average CHMIN: ['sperry', 172]\n",
      "Vendor with lowest average CHMIN: ['wang', 0]\n",
      "Standard Deviation between all vendors: 44.7653432980373\n"
     ]
    }
   ],
   "source": [
    "e = calcMaxMinSt(df, \"CHMIN\")"
   ]
  },
  {
   "cell_type": "code",
   "execution_count": 117,
   "metadata": {},
   "outputs": [
    {
     "name": "stdout",
     "output_type": "stream",
     "text": [
      "ibm: 216 CHMAX\n",
      "nas: 256 CHMAX\n",
      "sperry: 694 CHMAX\n",
      "ncr: 168 CHMAX\n",
      "honeywell: 424 CHMAX\n",
      "siemens: 166 CHMAX\n",
      "amdahl: 304 CHMAX\n",
      "cdc: 158 CHMAX\n",
      "burroughs: 307 CHMAX\n",
      "harris: 175 CHMAX\n",
      "hp: 159 CHMAX\n",
      "dg: 13 CHMAX\n",
      "ipl: 40 CHMAX\n",
      "dec: 39 CHMAX\n",
      "magnuson: 66 CHMAX\n",
      "c.r.d: 35 CHMAX\n",
      "prime: 54 CHMAX\n",
      "cambex: 27 CHMAX\n",
      "formation: 20 CHMAX\n",
      "gould: 114 CHMAX\n",
      "perkin-elmer: 22 CHMAX\n",
      "nixdorf: 11 CHMAX\n",
      "basf: 16 CHMAX\n",
      "apollo: 8 CHMAX\n",
      "wang: 0 CHMAX\n",
      "bti: 36 CHMAX\n",
      "four-phase: 20 CHMAX\n",
      "sratus: 14 CHMAX\n",
      "microdata: 128 CHMAX\n",
      "\n",
      "Vendor with highest average CHMAX: ['sperry', 694]\n",
      "Vendor with lowest average CHMAX: ['wang', 0]\n",
      "Standard Deviation between all vendors: 154.97826003586385\n"
     ]
    }
   ],
   "source": [
    "f = calcMaxMinSt(df, \"CHMAX\")"
   ]
  },
  {
   "cell_type": "code",
   "execution_count": 118,
   "metadata": {},
   "outputs": [
    {
     "name": "stdout",
     "output_type": "stream",
     "text": [
      "ibm: 2723 PRP\n",
      "nas: 3361 PRP\n",
      "sperry: 3314 PRP\n",
      "ncr: 823 PRP\n",
      "honeywell: 786 PRP\n",
      "siemens: 1462 PRP\n",
      "amdahl: 3747 PRP\n",
      "cdc: 1171 PRP\n",
      "burroughs: 398 PRP\n",
      "harris: 348 PRP\n",
      "hp: 255 PRP\n",
      "dg: 379 PRP\n",
      "ipl: 414 PRP\n",
      "dec: 284 PRP\n",
      "magnuson: 238 PRP\n",
      "c.r.d: 256 PRP\n",
      "prime: 269 PRP\n",
      "cambex: 214 PRP\n",
      "formation: 84 PRP\n",
      "gould: 547 PRP\n",
      "perkin-elmer: 125 PRP\n",
      "nixdorf: 96 PRP\n",
      "basf: 230 PRP\n",
      "apollo: 78 PRP\n",
      "wang: 112 PRP\n",
      "bti: 45 PRP\n",
      "four-phase: 36 PRP\n",
      "sratus: 52 PRP\n",
      "microdata: 30 PRP\n",
      "\n",
      "Vendor with highest average PRP: ['amdahl', 3747]\n",
      "Vendor with lowest average PRP: ['microdata', 30]\n",
      "Standard Deviation between all vendors: 1092.5728290139323\n"
     ]
    }
   ],
   "source": [
    "g = calcMaxMinSt(df, \"PRP\")"
   ]
  },
  {
   "cell_type": "code",
   "execution_count": 119,
   "metadata": {},
   "outputs": [
    {
     "name": "stdout",
     "output_type": "stream",
     "text": [
      "ibm: 2297 ERP\n",
      "nas: 3023 ERP\n",
      "sperry: 3246 ERP\n",
      "ncr: 1102 ERP\n",
      "honeywell: 886 ERP\n",
      "siemens: 1396 ERP\n",
      "amdahl: 3930 ERP\n",
      "cdc: 722 ERP\n",
      "burroughs: 357 ERP\n",
      "harris: 248 ERP\n",
      "hp: 220 ERP\n",
      "dg: 289 ERP\n",
      "ipl: 410 ERP\n",
      "dec: 215 ERP\n",
      "magnuson: 385 ERP\n",
      "c.r.d: 154 ERP\n",
      "prime: 170 ERP\n",
      "cambex: 293 ERP\n",
      "formation: 170 ERP\n",
      "gould: 345 ERP\n",
      "perkin-elmer: 112 ERP\n",
      "nixdorf: 113 ERP\n",
      "basf: 187 ERP\n",
      "apollo: 47 ERP\n",
      "wang: 72 ERP\n",
      "bti: 79 ERP\n",
      "four-phase: 19 ERP\n",
      "sratus: 41 ERP\n",
      "microdata: 33 ERP\n",
      "\n",
      "Vendor with highest average ERP: ['amdahl', 3930]\n",
      "Vendor with lowest average ERP: ['four-phase', 19]\n",
      "Standard Deviation between all vendors: 1057.8746550108315\n"
     ]
    }
   ],
   "source": [
    "h = calcMaxMinSt(df, \"ERP\")"
   ]
  },
  {
   "cell_type": "code",
   "execution_count": 136,
   "metadata": {},
   "outputs": [],
   "source": [
    "def modelMinMaxSt(data, calcv, prin=0):\n",
    "    loops = data[\"Model\"].value_counts().keys()\n",
    "    dats = []\n",
    "    avg = 0\n",
    "    for i in loops:\n",
    "        temp = data[data[\"Model\"] == i][calcv].mean()\n",
    "        if prin != 0:\n",
    "            print(i, end=\": \")\n",
    "            print(temp)\n",
    "        dats.append([i, temp])\n",
    "        avg += temp\n",
    "    avg = avg / len(loops)\n",
    "    \n",
    "    currMax = [\"0\", 0]\n",
    "    currMin = dats[0]\n",
    "    sqr = 0\n",
    "    \n",
    "    print()\n",
    "    \n",
    "    for i in dats:\n",
    "        sqr += (i[1] - avg)**2\n",
    "        if currMax[1] < i[1]:\n",
    "            currMax = i\n",
    "        if currMin[1] > i[1]:\n",
    "            currMin = i\n",
    "    \n",
    "    sqr = sqr/(len(dats) - 1)\n",
    "    sqr = np.sqrt(sqr)\n",
    "    print(\"Model with highest \" + calcv , end=\": \")\n",
    "    print(currMax)\n",
    "    print(\"Model with lowest \" + calcv, end=\": \")\n",
    "    print(currMin)\n",
    "    print(\"Standard Deviation between all models: \", end=\"\")\n",
    "    print(sqr)\n",
    "    return dats"
   ]
  },
  {
   "cell_type": "code",
   "execution_count": 142,
   "metadata": {},
   "outputs": [
    {
     "name": "stdout",
     "output_type": "stream",
     "text": [
      "\n",
      "Model with highest MYCT: ['8130-b', 1500.0]\n",
      "Model with lowest MYCT: ['4381-2', 17.0]\n",
      "Standard Deviation between all models: 260.83301633754655\n",
      "\n",
      "Model with highest MMIN: ['580-5880', 32000.0]\n",
      "Model with lowest MMIN: ['5000', 64.0]\n",
      "Standard Deviation between all models: 3883.8393000558717\n",
      "\n",
      "Model with highest MMAX: ['1100/94', 64000.0]\n",
      "Model with lowest MMAX: ['5000', 64.0]\n",
      "Standard Deviation between all models: 11747.916663476793\n",
      "\n",
      "Model with highest CACH: ['as/9060', 256.0]\n",
      "Model with lowest CACH: ['f4000/300', 0.0]\n",
      "Standard Deviation between all models: 37.41799903525445\n",
      "\n",
      "Model with highest CHMIN: ['1100/84', 52.0]\n",
      "Model with lowest CHMIN: ['vs-90', 0.0]\n",
      "Standard Deviation between all models: 6.787197765772389\n",
      "\n",
      "Model with highest CHMAX: ['1100/94', 176.0]\n",
      "Model with lowest CHMAX: ['vs-90', 0.0]\n",
      "Standard Deviation between all models: 24.913374632918522\n",
      "\n",
      "Model with highest PRP: ['1100/94', 1150.0]\n",
      "Model with lowest PRP: ['7.521', 6.0]\n",
      "Standard Deviation between all models: 161.0902231410671\n",
      "\n",
      "Model with highest ERP: ['580-5880', 1238.0]\n",
      "Model with lowest ERP: ['5000', 15.0]\n",
      "Standard Deviation between all models: 154.97496104143917\n"
     ]
    }
   ],
   "source": [
    "for i in df.columns[2:]:\n",
    "    modelMinMaxSt(df, i)"
   ]
  },
  {
   "cell_type": "code",
   "execution_count": 148,
   "metadata": {},
   "outputs": [
    {
     "name": "stdout",
     "output_type": "stream",
     "text": [
      "1100/61-h1\n",
      "1100/81\n",
      "1100/82\n",
      "1100/83\n",
      "1100/84\n",
      "1100/93\n",
      "1100/94\n",
      "80/3\n",
      "80/4\n",
      "80/5\n",
      "80/6\n",
      "80/8\n",
      "90/80-model-3\n"
     ]
    }
   ],
   "source": [
    "getVendorModels(df, \"sperry\")"
   ]
  },
  {
   "cell_type": "code",
   "execution_count": 154,
   "metadata": {},
   "outputs": [
    {
     "name": "stdout",
     "output_type": "stream",
     "text": [
      "sperry\n"
     ]
    }
   ],
   "source": [
    "getModelVendor(df, '1100/84')"
   ]
  },
  {
   "cell_type": "code",
   "execution_count": null,
   "metadata": {},
   "outputs": [],
   "source": []
  }
 ],
 "metadata": {
  "kernelspec": {
   "display_name": "Python 3",
   "language": "python",
   "name": "python3"
  },
  "language_info": {
   "codemirror_mode": {
    "name": "ipython",
    "version": 3
   },
   "file_extension": ".py",
   "mimetype": "text/x-python",
   "name": "python",
   "nbconvert_exporter": "python",
   "pygments_lexer": "ipython3",
   "version": "3.7.4"
  }
 },
 "nbformat": 4,
 "nbformat_minor": 2
}
