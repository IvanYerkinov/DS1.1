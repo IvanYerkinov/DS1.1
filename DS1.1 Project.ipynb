{
 "cells": [
  {
   "cell_type": "code",
   "execution_count": 2,
   "metadata": {},
   "outputs": [],
   "source": [
    "import numpy as np \n",
    "import pandas as pd \n",
    "import seaborn as sns\n",
    "import matplotlib.pyplot as plt\n",
    "\n",
    "df = pd.read_csv('StudentDataset.csv')"
   ]
  },
  {
   "cell_type": "code",
   "execution_count": 35,
   "metadata": {},
   "outputs": [
    {
     "data": {
      "text/html": [
       "<div>\n",
       "<style scoped>\n",
       "    .dataframe tbody tr th:only-of-type {\n",
       "        vertical-align: middle;\n",
       "    }\n",
       "\n",
       "    .dataframe tbody tr th {\n",
       "        vertical-align: top;\n",
       "    }\n",
       "\n",
       "    .dataframe thead th {\n",
       "        text-align: right;\n",
       "    }\n",
       "</style>\n",
       "<table border=\"1\" class=\"dataframe\">\n",
       "  <thead>\n",
       "    <tr style=\"text-align: right;\">\n",
       "      <th></th>\n",
       "      <th>ID</th>\n",
       "      <th>Location</th>\n",
       "      <th>Track</th>\n",
       "      <th>Week</th>\n",
       "      <th>Rating (Num)</th>\n",
       "      <th>Schedule Pacing</th>\n",
       "      <th>Catagory</th>\n",
       "    </tr>\n",
       "  </thead>\n",
       "  <tbody>\n",
       "    <tr>\n",
       "      <th>0</th>\n",
       "      <td>134</td>\n",
       "      <td>San Francisco</td>\n",
       "      <td>Apps, Explorer</td>\n",
       "      <td>Week 1</td>\n",
       "      <td>3</td>\n",
       "      <td>Just right</td>\n",
       "      <td>Detractor</td>\n",
       "    </tr>\n",
       "    <tr>\n",
       "      <th>1</th>\n",
       "      <td>36</td>\n",
       "      <td>Los Angeles</td>\n",
       "      <td>Apps</td>\n",
       "      <td>Week 1</td>\n",
       "      <td>4</td>\n",
       "      <td>A little too fast</td>\n",
       "      <td>Detractor</td>\n",
       "    </tr>\n",
       "    <tr>\n",
       "      <th>2</th>\n",
       "      <td>117</td>\n",
       "      <td>San Francisco</td>\n",
       "      <td>Games</td>\n",
       "      <td>Week 1</td>\n",
       "      <td>4</td>\n",
       "      <td>Way too slow</td>\n",
       "      <td>Detractor</td>\n",
       "    </tr>\n",
       "    <tr>\n",
       "      <th>3</th>\n",
       "      <td>253</td>\n",
       "      <td>NaN</td>\n",
       "      <td>NaN</td>\n",
       "      <td>Week 2</td>\n",
       "      <td>4</td>\n",
       "      <td>A little too fast</td>\n",
       "      <td>Detractor</td>\n",
       "    </tr>\n",
       "    <tr>\n",
       "      <th>4</th>\n",
       "      <td>350</td>\n",
       "      <td>New York City</td>\n",
       "      <td>Apps, Explorer</td>\n",
       "      <td>Week 1</td>\n",
       "      <td>4</td>\n",
       "      <td>Just right</td>\n",
       "      <td>Detractor</td>\n",
       "    </tr>\n",
       "    <tr>\n",
       "      <th>...</th>\n",
       "      <td>...</td>\n",
       "      <td>...</td>\n",
       "      <td>...</td>\n",
       "      <td>...</td>\n",
       "      <td>...</td>\n",
       "      <td>...</td>\n",
       "      <td>...</td>\n",
       "    </tr>\n",
       "    <tr>\n",
       "      <th>1448</th>\n",
       "      <td>1495</td>\n",
       "      <td>New York City</td>\n",
       "      <td>Apps, Explorer</td>\n",
       "      <td>Week 7</td>\n",
       "      <td>10</td>\n",
       "      <td>Just right</td>\n",
       "      <td>Detractor</td>\n",
       "    </tr>\n",
       "    <tr>\n",
       "      <th>1449</th>\n",
       "      <td>1496</td>\n",
       "      <td>New York City</td>\n",
       "      <td>Apps, Explorer</td>\n",
       "      <td>Week 7</td>\n",
       "      <td>8</td>\n",
       "      <td>Just right</td>\n",
       "      <td>Passive</td>\n",
       "    </tr>\n",
       "    <tr>\n",
       "      <th>1450</th>\n",
       "      <td>1497</td>\n",
       "      <td>New York City</td>\n",
       "      <td>Apps</td>\n",
       "      <td>Week 7</td>\n",
       "      <td>10</td>\n",
       "      <td>Just right</td>\n",
       "      <td>Detractor</td>\n",
       "    </tr>\n",
       "    <tr>\n",
       "      <th>1451</th>\n",
       "      <td>1498</td>\n",
       "      <td>New York City</td>\n",
       "      <td>Apps, Explorer</td>\n",
       "      <td>Week 7</td>\n",
       "      <td>1</td>\n",
       "      <td>A little too slow</td>\n",
       "      <td>Detractor</td>\n",
       "    </tr>\n",
       "    <tr>\n",
       "      <th>1452</th>\n",
       "      <td>1499</td>\n",
       "      <td>New York City</td>\n",
       "      <td>Apps</td>\n",
       "      <td>Week 5</td>\n",
       "      <td>8</td>\n",
       "      <td>Just right</td>\n",
       "      <td>Passive</td>\n",
       "    </tr>\n",
       "  </tbody>\n",
       "</table>\n",
       "<p>1453 rows × 7 columns</p>\n",
       "</div>"
      ],
      "text/plain": [
       "        ID       Location           Track    Week Rating (Num)  \\\n",
       "0      134  San Francisco  Apps, Explorer  Week 1            3   \n",
       "1       36    Los Angeles            Apps  Week 1            4   \n",
       "2      117  San Francisco           Games  Week 1            4   \n",
       "3      253            NaN             NaN  Week 2            4   \n",
       "4      350  New York City  Apps, Explorer  Week 1            4   \n",
       "...    ...            ...             ...     ...          ...   \n",
       "1448  1495  New York City  Apps, Explorer  Week 7           10   \n",
       "1449  1496  New York City  Apps, Explorer  Week 7            8   \n",
       "1450  1497  New York City            Apps  Week 7           10   \n",
       "1451  1498  New York City  Apps, Explorer  Week 7            1   \n",
       "1452  1499  New York City            Apps  Week 5            8   \n",
       "\n",
       "        Schedule Pacing   Catagory  \n",
       "0            Just right  Detractor  \n",
       "1     A little too fast  Detractor  \n",
       "2          Way too slow  Detractor  \n",
       "3     A little too fast  Detractor  \n",
       "4            Just right  Detractor  \n",
       "...                 ...        ...  \n",
       "1448         Just right  Detractor  \n",
       "1449         Just right    Passive  \n",
       "1450         Just right  Detractor  \n",
       "1451  A little too slow  Detractor  \n",
       "1452         Just right    Passive  \n",
       "\n",
       "[1453 rows x 7 columns]"
      ]
     },
     "execution_count": 35,
     "metadata": {},
     "output_type": "execute_result"
    }
   ],
   "source": [
    "df"
   ]
  },
  {
   "cell_type": "code",
   "execution_count": null,
   "metadata": {},
   "outputs": [],
   "source": []
  },
  {
   "cell_type": "markdown",
   "metadata": {},
   "source": [
    "\n"
   ]
  },
  {
   "cell_type": "code",
   "execution_count": 49,
   "metadata": {},
   "outputs": [
    {
     "name": "stdout",
     "output_type": "stream",
     "text": [
      "384\n",
      "497\n",
      "8          392\n",
      "9          384\n",
      "10         376\n",
      "7          177\n",
      "6           59\n",
      "5           35\n",
      "4           13\n",
      "3            8\n",
      "#ERROR!      3\n",
      "2            2\n",
      "1            2\n",
      "0            2\n",
      "Name: Rating (Num), dtype: int64\n",
      "-0.07793103448275862\n"
     ]
    }
   ],
   "source": [
    "siz = len(df[\"Rating (Num)\"])\n",
    "app = []\n",
    "nps = 0\n",
    "promotors = 0\n",
    "detractors = 0\n",
    "passives = 0\n",
    "nps = 0\n",
    "for i in range(siz):\n",
    "    check = df[\"Rating (Num)\"][i]\n",
    "    \n",
    "    if check >= '0' and check <= '6':\n",
    "        app.append(\"Detractor\")\n",
    "        detractors += 1\n",
    "    elif check == '7' or check == '8':\n",
    "        app.append(\"Passive\")\n",
    "        passives += 1\n",
    "    elif check == '9' or check == '10':\n",
    "        app.append(\"Promotor\")\n",
    "        promotors += 1\n",
    "    else:\n",
    "        app.append(\"None\")\n",
    "        \n",
    "nps = (promotors - detractors) / (promotors + passives + detractors)\n",
    "\n",
    "print(promotors)\n",
    "print(detractors)\n",
    "print(df[\"Rating (Num)\"].value_counts())\n",
    "\n",
    "print(nps)\n",
    "df[\"Catagory\"] = app"
   ]
  },
  {
   "cell_type": "markdown",
   "metadata": {},
   "source": [
    "### NPS\n",
    "-0.07793103448275862"
   ]
  },
  {
   "cell_type": "code",
   "execution_count": 36,
   "metadata": {},
   "outputs": [
    {
     "data": {
      "text/html": [
       "<div>\n",
       "<style scoped>\n",
       "    .dataframe tbody tr th:only-of-type {\n",
       "        vertical-align: middle;\n",
       "    }\n",
       "\n",
       "    .dataframe tbody tr th {\n",
       "        vertical-align: top;\n",
       "    }\n",
       "\n",
       "    .dataframe thead th {\n",
       "        text-align: right;\n",
       "    }\n",
       "</style>\n",
       "<table border=\"1\" class=\"dataframe\">\n",
       "  <thead>\n",
       "    <tr style=\"text-align: right;\">\n",
       "      <th></th>\n",
       "      <th>ID</th>\n",
       "      <th>Location</th>\n",
       "      <th>Track</th>\n",
       "      <th>Week</th>\n",
       "      <th>Rating (Num)</th>\n",
       "      <th>Schedule Pacing</th>\n",
       "      <th>Catagory</th>\n",
       "    </tr>\n",
       "  </thead>\n",
       "  <tbody>\n",
       "    <tr>\n",
       "      <th>0</th>\n",
       "      <td>134</td>\n",
       "      <td>San Francisco</td>\n",
       "      <td>Apps, Explorer</td>\n",
       "      <td>Week 1</td>\n",
       "      <td>3</td>\n",
       "      <td>Just right</td>\n",
       "      <td>Detractor</td>\n",
       "    </tr>\n",
       "    <tr>\n",
       "      <th>1</th>\n",
       "      <td>36</td>\n",
       "      <td>Los Angeles</td>\n",
       "      <td>Apps</td>\n",
       "      <td>Week 1</td>\n",
       "      <td>4</td>\n",
       "      <td>A little too fast</td>\n",
       "      <td>Detractor</td>\n",
       "    </tr>\n",
       "    <tr>\n",
       "      <th>2</th>\n",
       "      <td>117</td>\n",
       "      <td>San Francisco</td>\n",
       "      <td>Games</td>\n",
       "      <td>Week 1</td>\n",
       "      <td>4</td>\n",
       "      <td>Way too slow</td>\n",
       "      <td>Detractor</td>\n",
       "    </tr>\n",
       "    <tr>\n",
       "      <th>3</th>\n",
       "      <td>253</td>\n",
       "      <td>NaN</td>\n",
       "      <td>NaN</td>\n",
       "      <td>Week 2</td>\n",
       "      <td>4</td>\n",
       "      <td>A little too fast</td>\n",
       "      <td>Detractor</td>\n",
       "    </tr>\n",
       "    <tr>\n",
       "      <th>4</th>\n",
       "      <td>350</td>\n",
       "      <td>New York City</td>\n",
       "      <td>Apps, Explorer</td>\n",
       "      <td>Week 1</td>\n",
       "      <td>4</td>\n",
       "      <td>Just right</td>\n",
       "      <td>Detractor</td>\n",
       "    </tr>\n",
       "    <tr>\n",
       "      <th>...</th>\n",
       "      <td>...</td>\n",
       "      <td>...</td>\n",
       "      <td>...</td>\n",
       "      <td>...</td>\n",
       "      <td>...</td>\n",
       "      <td>...</td>\n",
       "      <td>...</td>\n",
       "    </tr>\n",
       "    <tr>\n",
       "      <th>1448</th>\n",
       "      <td>1495</td>\n",
       "      <td>New York City</td>\n",
       "      <td>Apps, Explorer</td>\n",
       "      <td>Week 7</td>\n",
       "      <td>10</td>\n",
       "      <td>Just right</td>\n",
       "      <td>Detractor</td>\n",
       "    </tr>\n",
       "    <tr>\n",
       "      <th>1449</th>\n",
       "      <td>1496</td>\n",
       "      <td>New York City</td>\n",
       "      <td>Apps, Explorer</td>\n",
       "      <td>Week 7</td>\n",
       "      <td>8</td>\n",
       "      <td>Just right</td>\n",
       "      <td>Passive</td>\n",
       "    </tr>\n",
       "    <tr>\n",
       "      <th>1450</th>\n",
       "      <td>1497</td>\n",
       "      <td>New York City</td>\n",
       "      <td>Apps</td>\n",
       "      <td>Week 7</td>\n",
       "      <td>10</td>\n",
       "      <td>Just right</td>\n",
       "      <td>Detractor</td>\n",
       "    </tr>\n",
       "    <tr>\n",
       "      <th>1451</th>\n",
       "      <td>1498</td>\n",
       "      <td>New York City</td>\n",
       "      <td>Apps, Explorer</td>\n",
       "      <td>Week 7</td>\n",
       "      <td>1</td>\n",
       "      <td>A little too slow</td>\n",
       "      <td>Detractor</td>\n",
       "    </tr>\n",
       "    <tr>\n",
       "      <th>1452</th>\n",
       "      <td>1499</td>\n",
       "      <td>New York City</td>\n",
       "      <td>Apps</td>\n",
       "      <td>Week 5</td>\n",
       "      <td>8</td>\n",
       "      <td>Just right</td>\n",
       "      <td>Passive</td>\n",
       "    </tr>\n",
       "  </tbody>\n",
       "</table>\n",
       "<p>1453 rows × 7 columns</p>\n",
       "</div>"
      ],
      "text/plain": [
       "        ID       Location           Track    Week Rating (Num)  \\\n",
       "0      134  San Francisco  Apps, Explorer  Week 1            3   \n",
       "1       36    Los Angeles            Apps  Week 1            4   \n",
       "2      117  San Francisco           Games  Week 1            4   \n",
       "3      253            NaN             NaN  Week 2            4   \n",
       "4      350  New York City  Apps, Explorer  Week 1            4   \n",
       "...    ...            ...             ...     ...          ...   \n",
       "1448  1495  New York City  Apps, Explorer  Week 7           10   \n",
       "1449  1496  New York City  Apps, Explorer  Week 7            8   \n",
       "1450  1497  New York City            Apps  Week 7           10   \n",
       "1451  1498  New York City  Apps, Explorer  Week 7            1   \n",
       "1452  1499  New York City            Apps  Week 5            8   \n",
       "\n",
       "        Schedule Pacing   Catagory  \n",
       "0            Just right  Detractor  \n",
       "1     A little too fast  Detractor  \n",
       "2          Way too slow  Detractor  \n",
       "3     A little too fast  Detractor  \n",
       "4            Just right  Detractor  \n",
       "...                 ...        ...  \n",
       "1448         Just right  Detractor  \n",
       "1449         Just right    Passive  \n",
       "1450         Just right  Detractor  \n",
       "1451  A little too slow  Detractor  \n",
       "1452         Just right    Passive  \n",
       "\n",
       "[1453 rows x 7 columns]"
      ]
     },
     "execution_count": 36,
     "metadata": {},
     "output_type": "execute_result"
    }
   ],
   "source": [
    "df"
   ]
  },
  {
   "cell_type": "markdown",
   "metadata": {},
   "source": [
    "### How many more promoters are there than detractors across our 2017 data?"
   ]
  },
  {
   "cell_type": "code",
   "execution_count": 7,
   "metadata": {},
   "outputs": [
    {
     "data": {
      "text/plain": [
       "Passive      569\n",
       "Detractor    497\n",
       "Promotor     384\n",
       "None           3\n",
       "Name: Catagory, dtype: int64"
      ]
     },
     "execution_count": 7,
     "metadata": {},
     "output_type": "execute_result"
    }
   ],
   "source": [
    "df[\"Catagory\"].value_counts()"
   ]
  },
  {
   "cell_type": "code",
   "execution_count": 11,
   "metadata": {},
   "outputs": [
    {
     "data": {
      "text/plain": [
       "-113"
      ]
     },
     "execution_count": 11,
     "metadata": {},
     "output_type": "execute_result"
    }
   ],
   "source": [
    "df[\"Catagory\"].value_counts()[\"Promotor\"] - df[\"Catagory\"].value_counts()[\"Detractor\"]"
   ]
  },
  {
   "cell_type": "code",
   "execution_count": 9,
   "metadata": {},
   "outputs": [
    {
     "data": {
      "text/plain": [
       "<matplotlib.axes._subplots.AxesSubplot at 0x131d41a90>"
      ]
     },
     "execution_count": 9,
     "metadata": {},
     "output_type": "execute_result"
    },
    {
     "data": {
      "image/png": "[encoded data removed]",
      "text/plain": [
       "<Figure size 432x288 with 1 Axes>"
      ]
     },
     "metadata": {
      "needs_background": "light"
     },
     "output_type": "display_data"
    }
   ],
   "source": [
    "df[\"Catagory\"].value_counts().plot(kind=\"bar\")"
   ]
  },
  {
   "cell_type": "markdown",
   "metadata": {},
   "source": [
    "### There are 113 more detractors than there are promotors"
   ]
  },
  {
   "cell_type": "markdown",
   "metadata": {},
   "source": [
    "### Which track boasts the best promoter-to-detractor ratio?"
   ]
  },
  {
   "cell_type": "code",
   "execution_count": 12,
   "metadata": {},
   "outputs": [
    {
     "data": {
      "text/plain": [
       "<matplotlib.axes._subplots.AxesSubplot at 0x134038790>"
      ]
     },
     "execution_count": 12,
     "metadata": {},
     "output_type": "execute_result"
    },
    {
     "data": {
      "image/png": "[encoded data removed]",
      "text/plain": [
       "<Figure size 432x288 with 1 Axes>"
      ]
     },
     "metadata": {
      "needs_background": "light"
     },
     "output_type": "display_data"
    }
   ],
   "source": [
    "sns.countplot(x='Catagory', hue='Track', data=df)"
   ]
  },
  {
   "cell_type": "code",
   "execution_count": 13,
   "metadata": {},
   "outputs": [
    {
     "data": {
      "text/plain": [
       "Apps               871\n",
       "Apps, Explorer     224\n",
       "Games              208\n",
       "VR                  60\n",
       "Games, Explorer     43\n",
       "Name: Track, dtype: int64"
      ]
     },
     "execution_count": 13,
     "metadata": {},
     "output_type": "execute_result"
    }
   ],
   "source": [
    "df[\"Track\"].value_counts()"
   ]
  },
  {
   "cell_type": "code",
   "execution_count": 41,
   "metadata": {},
   "outputs": [
    {
     "name": "stdout",
     "output_type": "stream",
     "text": [
      "Apps\n",
      "234 : 282\n",
      "1.0 to 1.205128205128205\n",
      "Total students: 871\n",
      "\n",
      "Apps, Explorer\n",
      "40 : 75\n",
      "1.0 to 1.875\n",
      "Total students: 224\n",
      "\n",
      "Games\n",
      "76 : 66\n",
      "1.0 to 0.868421052631579\n",
      "Total students: 208\n",
      "\n",
      "VR\n",
      "12 : 36\n",
      "1.0 to 3.0\n",
      "Total students: 60\n",
      "\n",
      "Games, Explorer\n",
      "14 : 17\n",
      "1.0 to 1.2142857142857142\n",
      "Total students: 43\n",
      "\n",
      "Promotor to Detractor ratios\n"
     ]
    }
   ],
   "source": [
    "ls = [\"Apps\", \"Apps, Explorer\", \"Games\", \"VR\", \"Games, Explorer\"]\n",
    "for a in ls:\n",
    "    print(a)\n",
    "    temp = df[df[\"Track\"] == a][\"Catagory\"].value_counts()\n",
    "    print(temp[\"Promotor\"], end=\" : \")\n",
    "    print(temp[\"Detractor\"])\n",
    "    print(temp[\"Promotor\"] / temp[\"Promotor\"], end=\" to \")\n",
    "    print(temp[\"Detractor\"] / temp[\"Promotor\"])\n",
    "    print(\"Total students:\", end=\" \")\n",
    "    print(temp.sum())\n",
    "    print()\n",
    "print(\"Promotor to Detractor ratios\")"
   ]
  },
  {
   "cell_type": "markdown",
   "metadata": {},
   "source": [
    "### Games and Apps have the best Detractor to Promotor ratios\n",
    "\n",
    "Games has more promotors per detractor, while apps has the smallest ratio between the amount of detractors per promotor."
   ]
  },
  {
   "cell_type": "markdown",
   "metadata": {},
   "source": [
    "### Does the student experience get better the longer that they are enrolled at the Summer Academy?"
   ]
  },
  {
   "cell_type": "code",
   "execution_count": 32,
   "metadata": {},
   "outputs": [
    {
     "data": {
      "text/plain": [
       "<matplotlib.axes._subplots.AxesSubplot at 0x13493a190>"
      ]
     },
     "execution_count": 32,
     "metadata": {},
     "output_type": "execute_result"
    },
    {
     "data": {
      "image/png": "[encoded data removed]",
      "text/plain": [
       "<Figure size 432x288 with 1 Axes>"
      ]
     },
     "metadata": {
      "needs_background": "light"
     },
     "output_type": "display_data"
    }
   ],
   "source": [
    "sns.countplot(x='Week', hue='Catagory', data=df)"
   ]
  },
  {
   "cell_type": "code",
   "execution_count": 16,
   "metadata": {},
   "outputs": [
    {
     "name": "stdout",
     "output_type": "stream",
     "text": [
      "Week 1\n",
      "Passive      131\n",
      "Detractor     96\n",
      "Promotor      61\n",
      "Name: Catagory, dtype: int64\n",
      "% Passive: 45.48611111111111\n",
      "% Promotor: 21.180555555555554\n",
      "% Detractor: 33.33333333333333\n",
      "1.0 to 1.5737704918032787\n",
      "\n",
      "Week 2\n",
      "Passive      116\n",
      "Detractor     84\n",
      "Promotor      76\n",
      "None           1\n",
      "Name: Catagory, dtype: int64\n",
      "% Passive: 41.87725631768953\n",
      "% Promotor: 27.436823104693143\n",
      "% Detractor: 30.324909747292416\n",
      "1.0 to 1.105263157894737\n",
      "\n",
      "Week 3\n",
      "Detractor    86\n",
      "Passive      86\n",
      "Promotor     69\n",
      "None          2\n",
      "Name: Catagory, dtype: int64\n",
      "% Passive: 35.390946502057616\n",
      "% Promotor: 28.39506172839506\n",
      "% Detractor: 35.390946502057616\n",
      "1.0 to 1.2463768115942029\n",
      "\n",
      "Week 4\n",
      "Passive      74\n",
      "Detractor    64\n",
      "Promotor     55\n",
      "Name: Catagory, dtype: int64\n",
      "% Passive: 38.34196891191709\n",
      "% Promotor: 28.497409326424872\n",
      "% Detractor: 33.160621761658035\n",
      "1.0 to 1.1636363636363636\n",
      "\n",
      "Week 5\n",
      "Detractor    67\n",
      "Passive      67\n",
      "Promotor     45\n",
      "Name: Catagory, dtype: int64\n",
      "% Passive: 37.43016759776536\n",
      "% Promotor: 25.139664804469277\n",
      "% Detractor: 37.43016759776536\n",
      "1.0 to 1.488888888888889\n",
      "\n",
      "Week 6\n",
      "Passive      59\n",
      "Detractor    51\n",
      "Promotor     34\n",
      "Name: Catagory, dtype: int64\n",
      "% Passive: 40.97222222222222\n",
      "% Promotor: 23.61111111111111\n",
      "% Detractor: 35.41666666666667\n",
      "1.0 to 1.5\n",
      "\n",
      "Week 7\n",
      "Detractor    45\n",
      "Promotor     41\n",
      "Passive      34\n",
      "Name: Catagory, dtype: int64\n",
      "% Passive: 28.333333333333332\n",
      "% Promotor: 34.166666666666664\n",
      "% Detractor: 37.5\n",
      "1.0 to 1.0975609756097562\n",
      "\n",
      "Week 8\n",
      "Detractor    4\n",
      "Promotor     3\n",
      "Passive      2\n",
      "Name: Catagory, dtype: int64\n",
      "% Passive: 22.22222222222222\n",
      "% Promotor: 33.33333333333333\n",
      "% Detractor: 44.44444444444444\n",
      "1.0 to 1.3333333333333333\n",
      "\n"
     ]
    }
   ],
   "source": [
    "ls = [\"Week 1\", \"Week 2\", \"Week 3\", \"Week 4\", \"Week 5\", \"Week 6\", \"Week 7\", \"Week 8\"]\n",
    "for a in ls:\n",
    "    print(a)\n",
    "    temp = df[df[\"Week\"] == a][\"Catagory\"].value_counts()\n",
    "    print(temp)\n",
    "    print(\"% Passive:\", end=\" \")\n",
    "    print((temp[\"Passive\"] / temp.sum()) * 100)\n",
    "    print(\"% Promotor:\", end=\" \")\n",
    "    print((temp[\"Promotor\"] / temp.sum()) * 100)\n",
    "    print(\"% Detractor:\", end=\" \")\n",
    "    print((temp[\"Detractor\"] / temp.sum()) * 100)\n",
    "    print(temp[\"Promotor\"] / temp[\"Promotor\"], end=\" to \")\n",
    "    print(temp[\"Detractor\"] / temp[\"Promotor\"])\n",
    "    print()"
   ]
  },
  {
   "cell_type": "markdown",
   "metadata": {},
   "source": [
    "On average people become less passive the longer they stay, but the overal trend of having more detractors than promotors stays throughout the entire dataset."
   ]
  },
  {
   "cell_type": "markdown",
   "metadata": {},
   "source": [
    "## Does student satisfaction vary by location?"
   ]
  },
  {
   "cell_type": "code",
   "execution_count": 17,
   "metadata": {},
   "outputs": [
    {
     "data": {
      "text/html": [
       "<div>\n",
       "<style scoped>\n",
       "    .dataframe tbody tr th:only-of-type {\n",
       "        vertical-align: middle;\n",
       "    }\n",
       "\n",
       "    .dataframe tbody tr th {\n",
       "        vertical-align: top;\n",
       "    }\n",
       "\n",
       "    .dataframe thead th {\n",
       "        text-align: right;\n",
       "    }\n",
       "</style>\n",
       "<table border=\"1\" class=\"dataframe\">\n",
       "  <thead>\n",
       "    <tr style=\"text-align: right;\">\n",
       "      <th>Catagory</th>\n",
       "      <th>Detractor</th>\n",
       "      <th>Passive</th>\n",
       "      <th>Promotor</th>\n",
       "    </tr>\n",
       "    <tr>\n",
       "      <th>Location</th>\n",
       "      <th></th>\n",
       "      <th></th>\n",
       "      <th></th>\n",
       "    </tr>\n",
       "  </thead>\n",
       "  <tbody>\n",
       "    <tr>\n",
       "      <th>Atlanta</th>\n",
       "      <td>14</td>\n",
       "      <td>9</td>\n",
       "      <td>10</td>\n",
       "    </tr>\n",
       "    <tr>\n",
       "      <th>Beijing</th>\n",
       "      <td>27</td>\n",
       "      <td>25</td>\n",
       "      <td>26</td>\n",
       "    </tr>\n",
       "    <tr>\n",
       "      <th>Chicago</th>\n",
       "      <td>21</td>\n",
       "      <td>29</td>\n",
       "      <td>20</td>\n",
       "    </tr>\n",
       "    <tr>\n",
       "      <th>Hong Kong</th>\n",
       "      <td>3</td>\n",
       "      <td>7</td>\n",
       "      <td>1</td>\n",
       "    </tr>\n",
       "    <tr>\n",
       "      <th>Los Angeles</th>\n",
       "      <td>40</td>\n",
       "      <td>33</td>\n",
       "      <td>33</td>\n",
       "    </tr>\n",
       "    <tr>\n",
       "      <th>New York City</th>\n",
       "      <td>119</td>\n",
       "      <td>136</td>\n",
       "      <td>75</td>\n",
       "    </tr>\n",
       "    <tr>\n",
       "      <th>Oakland</th>\n",
       "      <td>14</td>\n",
       "      <td>18</td>\n",
       "      <td>15</td>\n",
       "    </tr>\n",
       "    <tr>\n",
       "      <th>Redwood City</th>\n",
       "      <td>17</td>\n",
       "      <td>23</td>\n",
       "      <td>18</td>\n",
       "    </tr>\n",
       "    <tr>\n",
       "      <th>San Francisco</th>\n",
       "      <td>132</td>\n",
       "      <td>135</td>\n",
       "      <td>93</td>\n",
       "    </tr>\n",
       "    <tr>\n",
       "      <th>Santa Clara</th>\n",
       "      <td>42</td>\n",
       "      <td>95</td>\n",
       "      <td>64</td>\n",
       "    </tr>\n",
       "    <tr>\n",
       "      <th>Tokyo</th>\n",
       "      <td>31</td>\n",
       "      <td>23</td>\n",
       "      <td>11</td>\n",
       "    </tr>\n",
       "    <tr>\n",
       "      <th>Washington DC</th>\n",
       "      <td>16</td>\n",
       "      <td>21</td>\n",
       "      <td>10</td>\n",
       "    </tr>\n",
       "  </tbody>\n",
       "</table>\n",
       "</div>"
      ],
      "text/plain": [
       "Catagory       Detractor  Passive  Promotor\n",
       "Location                                   \n",
       "Atlanta               14        9        10\n",
       "Beijing               27       25        26\n",
       "Chicago               21       29        20\n",
       "Hong Kong              3        7         1\n",
       "Los Angeles           40       33        33\n",
       "New York City        119      136        75\n",
       "Oakland               14       18        15\n",
       "Redwood City          17       23        18\n",
       "San Francisco        132      135        93\n",
       "Santa Clara           42       95        64\n",
       "Tokyo                 31       23        11\n",
       "Washington DC         16       21        10"
      ]
     },
     "execution_count": 17,
     "metadata": {},
     "output_type": "execute_result"
    }
   ],
   "source": [
    "pd.crosstab(df[\"Location\"], df[\"Catagory\"])"
   ]
  },
  {
   "cell_type": "code",
   "execution_count": 18,
   "metadata": {},
   "outputs": [],
   "source": [
    "loop = df[\"Location\"].value_counts().index.tolist()"
   ]
  },
  {
   "cell_type": "code",
   "execution_count": 44,
   "metadata": {},
   "outputs": [
    {
     "data": {
      "text/plain": [
       "<matplotlib.axes._subplots.AxesSubplot at 0x134c7e090>"
      ]
     },
     "execution_count": 44,
     "metadata": {},
     "output_type": "execute_result"
    },
    {
     "data": {
      "image/png": "[encoded data removed]",
      "text/plain": [
       "<Figure size 432x288 with 1 Axes>"
      ]
     },
     "metadata": {
      "needs_background": "light"
     },
     "output_type": "display_data"
    }
   ],
   "source": [
    "df[\"Location\"].value_counts().plot(kind=\"bar\")"
   ]
  },
  {
   "cell_type": "code",
   "execution_count": 30,
   "metadata": {},
   "outputs": [
    {
     "name": "stdout",
     "output_type": "stream",
     "text": [
      "San Francisco\n",
      "10    101\n",
      "8      95\n",
      "9      93\n",
      "7      40\n",
      "6      17\n",
      "5       6\n",
      "3       4\n",
      "4       3\n",
      "2       1\n",
      "Name: Rating (Num), dtype: int64\n",
      "Total Students: 360\n",
      "8.458333333333334\n",
      "\n",
      "New York City\n",
      "8     98\n",
      "10    84\n",
      "9     75\n",
      "7     38\n",
      "6     16\n",
      "5      9\n",
      "3      3\n",
      "4      3\n",
      "1      2\n",
      "0      1\n",
      "2      1\n",
      "Name: Rating (Num), dtype: int64\n",
      "Total Students: 330\n",
      "8.275757575757575\n",
      "\n",
      "Santa Clara\n",
      "8     72\n",
      "9     64\n",
      "10    29\n",
      "7     23\n",
      "5      7\n",
      "6      5\n",
      "4      1\n",
      "Name: Rating (Num), dtype: int64\n",
      "Total Students: 201\n",
      "8.318407960199005\n",
      "\n",
      "Los Angeles\n",
      "10    35\n",
      "9     33\n",
      "8     25\n",
      "7      8\n",
      "6      3\n",
      "5      1\n",
      "4      1\n",
      "Name: Rating (Num), dtype: int64\n",
      "Total Students: 106\n",
      "8.773584905660377\n",
      "\n",
      "Beijing\n",
      "10    27\n",
      "9     26\n",
      "8     19\n",
      "7      6\n",
      "Name: Rating (Num), dtype: int64\n",
      "Total Students: 78\n",
      "8.948717948717949\n",
      "\n",
      "Chicago\n",
      "9     20\n",
      "8     17\n",
      "10    17\n",
      "7     12\n",
      "6      4\n",
      "Name: Rating (Num), dtype: int64\n",
      "Total Students: 70\n",
      "8.485714285714286\n",
      "\n",
      "Tokyo\n",
      "10    22\n",
      "8     13\n",
      "9     11\n",
      "7     10\n",
      "4      3\n",
      "6      3\n",
      "5      2\n",
      "3      1\n",
      "Name: Rating (Num), dtype: int64\n",
      "Total Students: 65\n",
      "8.246153846153845\n",
      "\n",
      "Redwood City\n",
      "9     18\n",
      "8     13\n",
      "10    12\n",
      "7     10\n",
      "5      3\n",
      "6      2\n",
      "Name: Rating (Num), dtype: int64\n",
      "Total Students: 58\n",
      "8.327586206896552\n",
      "\n",
      "Washington DC\n",
      "8     14\n",
      "9     10\n",
      "10    10\n",
      "7      7\n",
      "5      3\n",
      "6      3\n",
      "Name: Rating (Num), dtype: int64\n",
      "Total Students: 47\n",
      "8.170212765957446\n",
      "\n",
      "Oakland\n",
      "9     15\n",
      "10    12\n",
      "8      9\n",
      "7      9\n",
      "5      1\n",
      "6      1\n",
      "Name: Rating (Num), dtype: int64\n",
      "Total Students: 47\n",
      "8.53191489361702\n",
      "\n",
      "Atlanta\n",
      "10    14\n",
      "9     10\n",
      "8      8\n",
      "7      1\n",
      "Name: Rating (Num), dtype: int64\n",
      "Total Students: 33\n",
      "9.121212121212121\n",
      "\n",
      "Hong Kong\n",
      "8    4\n",
      "7    3\n",
      "6    2\n",
      "5    1\n",
      "9    1\n",
      "Name: Rating (Num), dtype: int64\n",
      "Total Students: 11\n",
      "7.181818181818182\n",
      "\n"
     ]
    }
   ],
   "source": [
    "for i in loop:\n",
    "    temp = df[df[\"Location\"] == i][\"Catagory\"].value_counts()\n",
    "    temp2 = df[df[\"Location\"] == i][\"Rating (Num)\"].value_counts()\n",
    "    print(i)\n",
    "    print(temp2)\n",
    "    print(\"Total Students: \", end=\"\")\n",
    "    print(temp2.sum())\n",
    "    print(df[df[\"Location\"] == i][\"Rating (Num)\"].astype(int).mean())\n",
    "    print()"
   ]
  },
  {
   "cell_type": "code",
   "execution_count": 20,
   "metadata": {},
   "outputs": [
    {
     "data": {
      "text/plain": [
       "<matplotlib.axes._subplots.AxesSubplot at 0x134219a90>"
      ]
     },
     "execution_count": 20,
     "metadata": {},
     "output_type": "execute_result"
    },
    {
     "data": {
      "image/png": "[encoded data removed]",
      "text/plain": [
       "<Figure size 432x288 with 1 Axes>"
      ]
     },
     "metadata": {
      "needs_background": "light"
     },
     "output_type": "display_data"
    }
   ],
   "source": [
    "sns.countplot(x='Catagory', hue=\"Location\", data=df[df[\"Catagory\"] == \"Promotor\"])"
   ]
  },
  {
   "cell_type": "code",
   "execution_count": 21,
   "metadata": {},
   "outputs": [
    {
     "data": {
      "text/plain": [
       "<matplotlib.axes._subplots.AxesSubplot at 0x1342ba690>"
      ]
     },
     "execution_count": 21,
     "metadata": {},
     "output_type": "execute_result"
    },
    {
     "data": {
      "image/png": "[encoded data removed]",
      "text/plain": [
       "<Figure size 432x288 with 1 Axes>"
      ]
     },
     "metadata": {
      "needs_background": "light"
     },
     "output_type": "display_data"
    }
   ],
   "source": [
    "sns.countplot(x='Catagory', hue=\"Location\", data=df[df[\"Catagory\"] == \"Detractor\"])"
   ]
  },
  {
   "cell_type": "code",
   "execution_count": 22,
   "metadata": {},
   "outputs": [
    {
     "data": {
      "text/plain": [
       "<matplotlib.axes._subplots.AxesSubplot at 0x1343da990>"
      ]
     },
     "execution_count": 22,
     "metadata": {},
     "output_type": "execute_result"
    },
    {
     "data": {
      "image/png": "[encoded data removed]",
      "text/plain": [
       "<Figure size 432x288 with 1 Axes>"
      ]
     },
     "metadata": {
      "needs_background": "light"
     },
     "output_type": "display_data"
    }
   ],
   "source": [
    "sns.countplot(x='Rating (Num)', hue=\"Location\", data=df[(df[\"Rating (Num)\"] >= '0') & (df[\"Rating (Num)\"] <= '4')])"
   ]
  },
  {
   "cell_type": "code",
   "execution_count": 23,
   "metadata": {},
   "outputs": [
    {
     "data": {
      "text/plain": [
       "<matplotlib.axes._subplots.AxesSubplot at 0x1343c6c90>"
      ]
     },
     "execution_count": 23,
     "metadata": {},
     "output_type": "execute_result"
    },
    {
     "data": {
      "image/png": "[encoded data removed]",
      "text/plain": [
       "<Figure size 432x288 with 1 Axes>"
      ]
     },
     "metadata": {
      "needs_background": "light"
     },
     "output_type": "display_data"
    }
   ],
   "source": [
    "sns.countplot(x='Rating (Num)', hue=\"Location\", data=df[(df[\"Rating (Num)\"] >= '5') & (df[\"Rating (Num)\"] <= '9')])"
   ]
  },
  {
   "cell_type": "code",
   "execution_count": 25,
   "metadata": {},
   "outputs": [],
   "source": [
    "def runRatePlot(location):\n",
    "    return df[df[\"Location\"] == location][\"Rating (Num)\"].value_counts().plot(kind=\"bar\")"
   ]
  },
  {
   "cell_type": "code",
   "execution_count": 26,
   "metadata": {},
   "outputs": [
    {
     "data": {
      "text/plain": [
       "<matplotlib.axes._subplots.AxesSubplot at 0x134843dd0>"
      ]
     },
     "execution_count": 26,
     "metadata": {},
     "output_type": "execute_result"
    },
    {
     "data": {
      "image/png": "[encoded data removed]",
      "text/plain": [
       "<Figure size 432x288 with 1 Axes>"
      ]
     },
     "metadata": {
      "needs_background": "light"
     },
     "output_type": "display_data"
    }
   ],
   "source": [
    "runRatePlot(\"Oakland\")"
   ]
  },
  {
   "cell_type": "markdown",
   "metadata": {},
   "source": [
    " It does, but no location has under 7 average rating, and most are about +/- 1 point around an average of 8.\n"
   ]
  },
  {
   "cell_type": "markdown",
   "metadata": {},
   "source": [
    "## What are things we could find here that could “help the business”? What sorts of information does this dataset contain?"
   ]
  },
  {
   "cell_type": "code",
   "execution_count": 27,
   "metadata": {},
   "outputs": [
    {
     "data": {
      "text/html": [
       "<div>\n",
       "<style scoped>\n",
       "    .dataframe tbody tr th:only-of-type {\n",
       "        vertical-align: middle;\n",
       "    }\n",
       "\n",
       "    .dataframe tbody tr th {\n",
       "        vertical-align: top;\n",
       "    }\n",
       "\n",
       "    .dataframe thead th {\n",
       "        text-align: right;\n",
       "    }\n",
       "</style>\n",
       "<table border=\"1\" class=\"dataframe\">\n",
       "  <thead>\n",
       "    <tr style=\"text-align: right;\">\n",
       "      <th></th>\n",
       "      <th>ID</th>\n",
       "      <th>Location</th>\n",
       "      <th>Track</th>\n",
       "      <th>Week</th>\n",
       "      <th>Rating (Num)</th>\n",
       "      <th>Schedule Pacing</th>\n",
       "      <th>Catagory</th>\n",
       "    </tr>\n",
       "  </thead>\n",
       "  <tbody>\n",
       "    <tr>\n",
       "      <th>0</th>\n",
       "      <td>134</td>\n",
       "      <td>San Francisco</td>\n",
       "      <td>Apps, Explorer</td>\n",
       "      <td>Week 1</td>\n",
       "      <td>3</td>\n",
       "      <td>Just right</td>\n",
       "      <td>Detractor</td>\n",
       "    </tr>\n",
       "    <tr>\n",
       "      <th>1</th>\n",
       "      <td>36</td>\n",
       "      <td>Los Angeles</td>\n",
       "      <td>Apps</td>\n",
       "      <td>Week 1</td>\n",
       "      <td>4</td>\n",
       "      <td>A little too fast</td>\n",
       "      <td>Detractor</td>\n",
       "    </tr>\n",
       "    <tr>\n",
       "      <th>2</th>\n",
       "      <td>117</td>\n",
       "      <td>San Francisco</td>\n",
       "      <td>Games</td>\n",
       "      <td>Week 1</td>\n",
       "      <td>4</td>\n",
       "      <td>Way too slow</td>\n",
       "      <td>Detractor</td>\n",
       "    </tr>\n",
       "    <tr>\n",
       "      <th>3</th>\n",
       "      <td>253</td>\n",
       "      <td>NaN</td>\n",
       "      <td>NaN</td>\n",
       "      <td>Week 2</td>\n",
       "      <td>4</td>\n",
       "      <td>A little too fast</td>\n",
       "      <td>Detractor</td>\n",
       "    </tr>\n",
       "    <tr>\n",
       "      <th>4</th>\n",
       "      <td>350</td>\n",
       "      <td>New York City</td>\n",
       "      <td>Apps, Explorer</td>\n",
       "      <td>Week 1</td>\n",
       "      <td>4</td>\n",
       "      <td>Just right</td>\n",
       "      <td>Detractor</td>\n",
       "    </tr>\n",
       "    <tr>\n",
       "      <th>...</th>\n",
       "      <td>...</td>\n",
       "      <td>...</td>\n",
       "      <td>...</td>\n",
       "      <td>...</td>\n",
       "      <td>...</td>\n",
       "      <td>...</td>\n",
       "      <td>...</td>\n",
       "    </tr>\n",
       "    <tr>\n",
       "      <th>1448</th>\n",
       "      <td>1495</td>\n",
       "      <td>New York City</td>\n",
       "      <td>Apps, Explorer</td>\n",
       "      <td>Week 7</td>\n",
       "      <td>10</td>\n",
       "      <td>Just right</td>\n",
       "      <td>Detractor</td>\n",
       "    </tr>\n",
       "    <tr>\n",
       "      <th>1449</th>\n",
       "      <td>1496</td>\n",
       "      <td>New York City</td>\n",
       "      <td>Apps, Explorer</td>\n",
       "      <td>Week 7</td>\n",
       "      <td>8</td>\n",
       "      <td>Just right</td>\n",
       "      <td>Passive</td>\n",
       "    </tr>\n",
       "    <tr>\n",
       "      <th>1450</th>\n",
       "      <td>1497</td>\n",
       "      <td>New York City</td>\n",
       "      <td>Apps</td>\n",
       "      <td>Week 7</td>\n",
       "      <td>10</td>\n",
       "      <td>Just right</td>\n",
       "      <td>Detractor</td>\n",
       "    </tr>\n",
       "    <tr>\n",
       "      <th>1451</th>\n",
       "      <td>1498</td>\n",
       "      <td>New York City</td>\n",
       "      <td>Apps, Explorer</td>\n",
       "      <td>Week 7</td>\n",
       "      <td>1</td>\n",
       "      <td>A little too slow</td>\n",
       "      <td>Detractor</td>\n",
       "    </tr>\n",
       "    <tr>\n",
       "      <th>1452</th>\n",
       "      <td>1499</td>\n",
       "      <td>New York City</td>\n",
       "      <td>Apps</td>\n",
       "      <td>Week 5</td>\n",
       "      <td>8</td>\n",
       "      <td>Just right</td>\n",
       "      <td>Passive</td>\n",
       "    </tr>\n",
       "  </tbody>\n",
       "</table>\n",
       "<p>1453 rows × 7 columns</p>\n",
       "</div>"
      ],
      "text/plain": [
       "        ID       Location           Track    Week Rating (Num)  \\\n",
       "0      134  San Francisco  Apps, Explorer  Week 1            3   \n",
       "1       36    Los Angeles            Apps  Week 1            4   \n",
       "2      117  San Francisco           Games  Week 1            4   \n",
       "3      253            NaN             NaN  Week 2            4   \n",
       "4      350  New York City  Apps, Explorer  Week 1            4   \n",
       "...    ...            ...             ...     ...          ...   \n",
       "1448  1495  New York City  Apps, Explorer  Week 7           10   \n",
       "1449  1496  New York City  Apps, Explorer  Week 7            8   \n",
       "1450  1497  New York City            Apps  Week 7           10   \n",
       "1451  1498  New York City  Apps, Explorer  Week 7            1   \n",
       "1452  1499  New York City            Apps  Week 5            8   \n",
       "\n",
       "        Schedule Pacing   Catagory  \n",
       "0            Just right  Detractor  \n",
       "1     A little too fast  Detractor  \n",
       "2          Way too slow  Detractor  \n",
       "3     A little too fast  Detractor  \n",
       "4            Just right  Detractor  \n",
       "...                 ...        ...  \n",
       "1448         Just right  Detractor  \n",
       "1449         Just right    Passive  \n",
       "1450         Just right  Detractor  \n",
       "1451  A little too slow  Detractor  \n",
       "1452         Just right    Passive  \n",
       "\n",
       "[1453 rows x 7 columns]"
      ]
     },
     "execution_count": 27,
     "metadata": {},
     "output_type": "execute_result"
    }
   ],
   "source": [
    "df"
   ]
  },
  {
   "cell_type": "markdown",
   "metadata": {},
   "source": []
  },
  {
   "cell_type": "markdown",
   "metadata": {},
   "source": [
    "### What kinds of questions might we be able to answer with this data?"
   ]
  },
  {
   "cell_type": "markdown",
   "metadata": {},
   "source": [
    "How well the course is paced.\n",
    "How satisfied people are with the course.\n",
    "The NPS of the course.\n",
    "Where the majority of students reside.\n",
    "How location corralates to satisfaction and schedule pacing.\n",
    "What students think of the courses pacing?\n",
    "How ratings vary between the week of the course.\n",
    "How pacing varies between weeks of the course.\n",
    "How rating/pacing varies between tracks.\n",
    "How location correlates to track."
   ]
  },
  {
   "cell_type": "markdown",
   "metadata": {},
   "source": [
    "### What kinds of questions can’t we answer with this data?"
   ]
  },
  {
   "cell_type": "markdown",
   "metadata": {},
   "source": [
    "Why are people satisfied/not satisfied? What are the characteristics of the people taking the course? Did they answer honestly? Any question related to the people behind the survey or the quality of the course itself."
   ]
  },
  {
   "cell_type": "code",
   "execution_count": null,
   "metadata": {},
   "outputs": [],
   "source": []
  }
 ],
 "metadata": {
  "kernelspec": {
   "display_name": "Python 3",
   "language": "python",
   "name": "python3"
  },
  "language_info": {
   "codemirror_mode": {
    "name": "ipython",
    "version": 3
   },
   "file_extension": ".py",
   "mimetype": "text/x-python",
   "name": "python",
   "nbconvert_exporter": "python",
   "pygments_lexer": "ipython3",
   "version": "3.7.4"
  }
 },
 "nbformat": 4,
 "nbformat_minor": 2
}
